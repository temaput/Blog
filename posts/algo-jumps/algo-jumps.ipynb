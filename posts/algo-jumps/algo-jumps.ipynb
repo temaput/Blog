{
 "cells": [
  {
   "attachments": {},
   "cell_type": "markdown",
   "metadata": {},
   "source": [
    "# Jumps Game \n",
    "Given an array of integers arr, you are initially positioned at the first index of the array.\n",
    "\n",
    "In one step you can jump from index i to index:\n",
    "\n",
    "i + 1 where: i + 1 < arr.length.\n",
    "i - 1 where: i - 1 >= 0.\n",
    "j where: arr[i] == arr[j] and i != j.\n",
    "Return the minimum number of steps to reach the last index of the array.\n",
    "\n",
    "Notice that you can not jump outside of the array at any time.\n",
    "\n",
    " \n",
    "\n",
    "Example 1:\n",
    "\n",
    "Input: arr = [100,-23,-23,404,100,23,23,23,3,404]\n",
    "Output: 3\n",
    "Explanation: You need three jumps from index 0 --> 4 --> 3 --> 9. Note that index 9 is the last index of the array.\n"
   ]
  },
  {
   "attachments": {},
   "cell_type": "markdown",
   "metadata": {},
   "source": [
    "## BFS Solution\n",
    "\n",
    "BFS seems like a straghtforward way to do it since we are searching for the shortest way in the graph. We will require:\n",
    "- a function that pickes next steps based on the roles (back, forward, jump)\n",
    "- for picking where to jump we will use a mapping from values into their positions int -> [int]\n",
    "- a simple que of next steps\n",
    "- in order to avoid cycles we need another hash of visited positions we will also use it to retrace our steps\n"
   ]
  },
  {
   "cell_type": "code",
   "execution_count": 4,
   "metadata": {},
   "outputs": [],
   "source": [
    "from typing import List, Dict, Set, Deque\n",
    "from collections import deque\n",
    "\n",
    "\n",
    "class Solution:\n",
    "    m: Dict[int, List[int]] = dict()\n",
    "    q: Deque[int] = deque()\n",
    "    visited: Dict[int, int] = dict()\n",
    "    arr: List[int]\n",
    "\n",
    "    def minJumps(self, arr: List[int]) -> int:\n",
    "        # edge cases\n",
    "        if len(arr) < 3:\n",
    "            return len(arr) - 1\n",
    "        self.arr = arr\n",
    "\n",
    "    def buildM(self, arr: List[int]):\n",
    "        for (i, x) in enumerate(arr):\n",
    "            ml = self.m.setdefault(x, [])\n",
    "            ml.push(i)\n",
    "\n",
    "    def pickNext(self, pos: int) -> List[int]:\n",
    "        ml = self.m.get(self.arr[pos], [])\n",
    "        for p in ml:\n",
    "            if p not in self.visited:\n",
    "                self.q.append(p)\n",
    "                self.visited[p] = pos\n",
    "\n",
    "        if pos > 0 and (pos - 1) not in self.visited:\n",
    "            self.q.append(pos - 1)\n",
    "            self.visited[pos - 1] = pos\n",
    "        if pos < len(self.arr) - 1 and (pos + 1) not in self.visited:\n",
    "            self.q.append(pos + 1)\n",
    "            self.visited[pos + 1] = pos\n",
    "\n",
    "    def retrace(self, path: List[int]) -> List[int]:\n",
    "        pos = path[-1]\n",
    "        if pos in self.visited:\n",
    "            prevPos = self.visited[pos]\n",
    "            return self.retrace([*path, prevPos])\n",
    "        else:\n",
    "            return path\n",
    "\n",
    "\n",
    "\n",
    "    \n",
    "            \n"
   ]
  }
 ],
 "metadata": {
  "kernelspec": {
   "display_name": "Python 3",
   "language": "python",
   "name": "python3"
  },
  "language_info": {
   "codemirror_mode": {
    "name": "ipython",
    "version": 3
   },
   "file_extension": ".py",
   "mimetype": "text/x-python",
   "name": "python",
   "nbconvert_exporter": "python",
   "pygments_lexer": "ipython3",
   "version": "3.11.2"
  },
  "orig_nbformat": 4,
  "vscode": {
   "interpreter": {
    "hash": "aee8b7b246df8f9039afb4144a1f6fd8d2ca17a180786b69acc140d282b71a49"
   }
  }
 },
 "nbformat": 4,
 "nbformat_minor": 2
}
